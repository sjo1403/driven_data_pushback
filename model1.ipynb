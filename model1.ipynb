{
 "cells": [
  {
   "cell_type": "markdown",
   "id": "bec811de-39c5-4354-815f-e74be6e3ba0a",
   "metadata": {},
   "source": [
    "# Read in data"
   ]
  },
  {
   "cell_type": "code",
   "execution_count": 1,
   "id": "51c9f5b6-4db2-45f0-a654-87aaa2b68e04",
   "metadata": {},
   "outputs": [],
   "source": [
    "from datetime import timedelta\n",
    "from pathlib import Path\n",
    "\n",
    "import matplotlib.pyplot as plt\n",
    "import numpy as np\n",
    "import pandas as pd\n",
    "\n",
    "airports = [\n",
    "    \"KATL\",\n",
    "    \"KCLT\",\n",
    "    \"KDEN\",\n",
    "    \"KDFW\",\n",
    "    \"KJFK\",\n",
    "    \"KMEM\",\n",
    "    \"KMIA\",\n",
    "    \"KORD\",\n",
    "    \"KPHX\",\n",
    "    \"KSEA\",\n",
    "]"
   ]
  },
  {
   "cell_type": "code",
   "execution_count": 9,
   "id": "7e16876c-a243-493c-bc50-87d10312f47a",
   "metadata": {},
   "outputs": [],
   "source": [
    "airport = \"KDEN\""
   ]
  },
  {
   "cell_type": "code",
   "execution_count": 10,
   "id": "3f0425df-45f5-4e78-999e-5a0a4df5150e",
   "metadata": {},
   "outputs": [],
   "source": [
    "DATA_DIRECTORY = Path(\"code execution development data\")"
   ]
  },
  {
   "cell_type": "markdown",
   "id": "b4bedd71-f066-4a2f-8f2c-150ba1546381",
   "metadata": {},
   "source": [
    "## LAMP"
   ]
  },
  {
   "cell_type": "code",
   "execution_count": 12,
   "id": "e13afafd-38ec-45a6-bfb2-b37f02853fee",
   "metadata": {},
   "outputs": [
    {
     "data": {
      "text/html": [
       "<div>\n",
       "<style scoped>\n",
       "    .dataframe tbody tr th:only-of-type {\n",
       "        vertical-align: middle;\n",
       "    }\n",
       "\n",
       "    .dataframe tbody tr th {\n",
       "        vertical-align: top;\n",
       "    }\n",
       "\n",
       "    .dataframe thead th {\n",
       "        text-align: right;\n",
       "    }\n",
       "</style>\n",
       "<table border=\"1\" class=\"dataframe\">\n",
       "  <thead>\n",
       "    <tr style=\"text-align: right;\">\n",
       "      <th></th>\n",
       "      <th>timestamp</th>\n",
       "      <th>forecast_timestamp</th>\n",
       "      <th>temperature</th>\n",
       "      <th>wind_direction</th>\n",
       "      <th>wind_speed</th>\n",
       "      <th>wind_gust</th>\n",
       "      <th>cloud_ceiling</th>\n",
       "      <th>visibility</th>\n",
       "      <th>cloud</th>\n",
       "      <th>lightning_prob</th>\n",
       "      <th>precip</th>\n",
       "    </tr>\n",
       "  </thead>\n",
       "  <tbody>\n",
       "    <tr>\n",
       "      <th>0</th>\n",
       "      <td>2020-11-14 00:30:00</td>\n",
       "      <td>2020-11-14 01:00:00</td>\n",
       "      <td>50</td>\n",
       "      <td>24</td>\n",
       "      <td>8</td>\n",
       "      <td>0</td>\n",
       "      <td>8.0</td>\n",
       "      <td>7</td>\n",
       "      <td>FW</td>\n",
       "      <td>N</td>\n",
       "      <td>False</td>\n",
       "    </tr>\n",
       "    <tr>\n",
       "      <th>1</th>\n",
       "      <td>2020-11-14 00:30:00</td>\n",
       "      <td>2020-11-14 02:00:00</td>\n",
       "      <td>47</td>\n",
       "      <td>23</td>\n",
       "      <td>9</td>\n",
       "      <td>0</td>\n",
       "      <td>8.0</td>\n",
       "      <td>7</td>\n",
       "      <td>FW</td>\n",
       "      <td>N</td>\n",
       "      <td>False</td>\n",
       "    </tr>\n",
       "    <tr>\n",
       "      <th>2</th>\n",
       "      <td>2020-11-14 00:30:00</td>\n",
       "      <td>2020-11-14 03:00:00</td>\n",
       "      <td>45</td>\n",
       "      <td>22</td>\n",
       "      <td>13</td>\n",
       "      <td>0</td>\n",
       "      <td>8.0</td>\n",
       "      <td>7</td>\n",
       "      <td>CL</td>\n",
       "      <td>N</td>\n",
       "      <td>False</td>\n",
       "    </tr>\n",
       "    <tr>\n",
       "      <th>3</th>\n",
       "      <td>2020-11-14 00:30:00</td>\n",
       "      <td>2020-11-14 04:00:00</td>\n",
       "      <td>43</td>\n",
       "      <td>22</td>\n",
       "      <td>15</td>\n",
       "      <td>0</td>\n",
       "      <td>8.0</td>\n",
       "      <td>7</td>\n",
       "      <td>FW</td>\n",
       "      <td>N</td>\n",
       "      <td>False</td>\n",
       "    </tr>\n",
       "    <tr>\n",
       "      <th>4</th>\n",
       "      <td>2020-11-14 00:30:00</td>\n",
       "      <td>2020-11-14 05:00:00</td>\n",
       "      <td>43</td>\n",
       "      <td>22</td>\n",
       "      <td>16</td>\n",
       "      <td>0</td>\n",
       "      <td>8.0</td>\n",
       "      <td>7</td>\n",
       "      <td>FW</td>\n",
       "      <td>N</td>\n",
       "      <td>False</td>\n",
       "    </tr>\n",
       "  </tbody>\n",
       "</table>\n",
       "</div>"
      ],
      "text/plain": [
       "            timestamp  forecast_timestamp  temperature  wind_direction  \\\n",
       "0 2020-11-14 00:30:00 2020-11-14 01:00:00           50              24   \n",
       "1 2020-11-14 00:30:00 2020-11-14 02:00:00           47              23   \n",
       "2 2020-11-14 00:30:00 2020-11-14 03:00:00           45              22   \n",
       "3 2020-11-14 00:30:00 2020-11-14 04:00:00           43              22   \n",
       "4 2020-11-14 00:30:00 2020-11-14 05:00:00           43              22   \n",
       "\n",
       "   wind_speed  wind_gust  cloud_ceiling  visibility cloud lightning_prob  \\\n",
       "0           8          0            8.0           7    FW              N   \n",
       "1           9          0            8.0           7    FW              N   \n",
       "2          13          0            8.0           7    CL              N   \n",
       "3          15          0            8.0           7    FW              N   \n",
       "4          16          0            8.0           7    FW              N   \n",
       "\n",
       "   precip  \n",
       "0   False  \n",
       "1   False  \n",
       "2   False  \n",
       "3   False  \n",
       "4   False  "
      ]
     },
     "execution_count": 12,
     "metadata": {},
     "output_type": "execute_result"
    }
   ],
   "source": [
    "lamp = pd.read_csv(\n",
    "    DATA_DIRECTORY / airport / f\"{airport}_lamp.csv.bz2\",\n",
    "    parse_dates=[\"timestamp\", \"forecast_timestamp\"],\n",
    ")\n",
    "lamp.head(5)"
   ]
  },
  {
   "cell_type": "markdown",
   "id": "34748bf6-8f89-451f-8820-511281005434",
   "metadata": {},
   "source": [
    "## TBFM"
   ]
  },
  {
   "cell_type": "code",
   "execution_count": 13,
   "id": "29c9fd54-6213-4161-bbc1-ca9f01b737af",
   "metadata": {},
   "outputs": [
    {
     "data": {
      "text/html": [
       "<div>\n",
       "<style scoped>\n",
       "    .dataframe tbody tr th:only-of-type {\n",
       "        vertical-align: middle;\n",
       "    }\n",
       "\n",
       "    .dataframe tbody tr th {\n",
       "        vertical-align: top;\n",
       "    }\n",
       "\n",
       "    .dataframe thead th {\n",
       "        text-align: right;\n",
       "    }\n",
       "</style>\n",
       "<table border=\"1\" class=\"dataframe\">\n",
       "  <thead>\n",
       "    <tr style=\"text-align: right;\">\n",
       "      <th></th>\n",
       "      <th>gufi</th>\n",
       "      <th>timestamp</th>\n",
       "      <th>scheduled_runway_estimated_time</th>\n",
       "    </tr>\n",
       "  </thead>\n",
       "  <tbody>\n",
       "    <tr>\n",
       "      <th>0</th>\n",
       "      <td>UAL539.CLE.DEN.201112.2153.0048.TFM</td>\n",
       "      <td>2020-11-14</td>\n",
       "      <td>2020-11-14 01:15:07</td>\n",
       "    </tr>\n",
       "    <tr>\n",
       "      <th>1</th>\n",
       "      <td>SWA1002.MKE.DEN.201112.2313.0088.TFM</td>\n",
       "      <td>2020-11-14</td>\n",
       "      <td>2020-11-14 01:42:32</td>\n",
       "    </tr>\n",
       "    <tr>\n",
       "      <th>2</th>\n",
       "      <td>UAL1077.EWR.DEN.201112.2108.0106.TFM</td>\n",
       "      <td>2020-11-14</td>\n",
       "      <td>2020-11-14 01:22:02</td>\n",
       "    </tr>\n",
       "    <tr>\n",
       "      <th>3</th>\n",
       "      <td>SKW4752.CID.DEN.201112.2253.0165.TFM</td>\n",
       "      <td>2020-11-14</td>\n",
       "      <td>2020-11-14 01:10:54</td>\n",
       "    </tr>\n",
       "    <tr>\n",
       "      <th>4</th>\n",
       "      <td>SKW5234.GRR.DEN.201112.2218.0098.TFM</td>\n",
       "      <td>2020-11-14</td>\n",
       "      <td>2020-11-14 01:12:19</td>\n",
       "    </tr>\n",
       "  </tbody>\n",
       "</table>\n",
       "</div>"
      ],
      "text/plain": [
       "                                   gufi  timestamp  \\\n",
       "0   UAL539.CLE.DEN.201112.2153.0048.TFM 2020-11-14   \n",
       "1  SWA1002.MKE.DEN.201112.2313.0088.TFM 2020-11-14   \n",
       "2  UAL1077.EWR.DEN.201112.2108.0106.TFM 2020-11-14   \n",
       "3  SKW4752.CID.DEN.201112.2253.0165.TFM 2020-11-14   \n",
       "4  SKW5234.GRR.DEN.201112.2218.0098.TFM 2020-11-14   \n",
       "\n",
       "  scheduled_runway_estimated_time  \n",
       "0             2020-11-14 01:15:07  \n",
       "1             2020-11-14 01:42:32  \n",
       "2             2020-11-14 01:22:02  \n",
       "3             2020-11-14 01:10:54  \n",
       "4             2020-11-14 01:12:19  "
      ]
     },
     "execution_count": 13,
     "metadata": {},
     "output_type": "execute_result"
    }
   ],
   "source": [
    "tbfm = pd.read_csv(\n",
    "    DATA_DIRECTORY / airport / f\"{airport}_tbfm.csv.bz2\",\n",
    "    parse_dates=[\"timestamp\", \"scheduled_runway_estimated_time\"],\n",
    ")\n",
    "tbfm.head(5)"
   ]
  },
  {
   "cell_type": "markdown",
   "id": "d3957e11-71ff-47ed-97b6-3199d23f7ae8",
   "metadata": {},
   "source": [
    "## ETD"
   ]
  },
  {
   "cell_type": "code",
   "execution_count": 11,
   "id": "6fa924bf-7e33-427e-89db-d668994ba24d",
   "metadata": {},
   "outputs": [
    {
     "data": {
      "text/html": [
       "<div>\n",
       "<style scoped>\n",
       "    .dataframe tbody tr th:only-of-type {\n",
       "        vertical-align: middle;\n",
       "    }\n",
       "\n",
       "    .dataframe tbody tr th {\n",
       "        vertical-align: top;\n",
       "    }\n",
       "\n",
       "    .dataframe thead th {\n",
       "        text-align: right;\n",
       "    }\n",
       "</style>\n",
       "<table border=\"1\" class=\"dataframe\">\n",
       "  <thead>\n",
       "    <tr style=\"text-align: right;\">\n",
       "      <th></th>\n",
       "      <th>gufi</th>\n",
       "      <th>timestamp</th>\n",
       "      <th>departure_runway_estimated_time</th>\n",
       "    </tr>\n",
       "  </thead>\n",
       "  <tbody>\n",
       "    <tr>\n",
       "      <th>0</th>\n",
       "      <td>SKW4678.DEN.FLG.201112.1843.0129.TFM</td>\n",
       "      <td>2020-11-13 18:00:05</td>\n",
       "      <td>2020-11-13 19:02:00</td>\n",
       "    </tr>\n",
       "    <tr>\n",
       "      <th>1</th>\n",
       "      <td>SKW4678.DEN.FLG.201112.1843.0129.TFM</td>\n",
       "      <td>2020-11-13 18:00:09</td>\n",
       "      <td>2020-11-13 19:07:00</td>\n",
       "    </tr>\n",
       "    <tr>\n",
       "      <th>2</th>\n",
       "      <td>SKW4678.DEN.FLG.201112.1843.0129.TFM</td>\n",
       "      <td>2020-11-13 18:00:10</td>\n",
       "      <td>2020-11-13 19:02:00</td>\n",
       "    </tr>\n",
       "    <tr>\n",
       "      <th>3</th>\n",
       "      <td>UAL459.DEN.MSP.201112.1638.0042.TFM</td>\n",
       "      <td>2020-11-13 18:00:14</td>\n",
       "      <td>2020-11-13 16:46:00</td>\n",
       "    </tr>\n",
       "    <tr>\n",
       "      <th>4</th>\n",
       "      <td>SWA6755.DEN.SMF.201112.1703.0087.TFM</td>\n",
       "      <td>2020-11-13 18:00:17</td>\n",
       "      <td>2020-11-13 17:26:00</td>\n",
       "    </tr>\n",
       "  </tbody>\n",
       "</table>\n",
       "</div>"
      ],
      "text/plain": [
       "                                   gufi           timestamp  \\\n",
       "0  SKW4678.DEN.FLG.201112.1843.0129.TFM 2020-11-13 18:00:05   \n",
       "1  SKW4678.DEN.FLG.201112.1843.0129.TFM 2020-11-13 18:00:09   \n",
       "2  SKW4678.DEN.FLG.201112.1843.0129.TFM 2020-11-13 18:00:10   \n",
       "3   UAL459.DEN.MSP.201112.1638.0042.TFM 2020-11-13 18:00:14   \n",
       "4  SWA6755.DEN.SMF.201112.1703.0087.TFM 2020-11-13 18:00:17   \n",
       "\n",
       "  departure_runway_estimated_time  \n",
       "0             2020-11-13 19:02:00  \n",
       "1             2020-11-13 19:07:00  \n",
       "2             2020-11-13 19:02:00  \n",
       "3             2020-11-13 16:46:00  \n",
       "4             2020-11-13 17:26:00  "
      ]
     },
     "execution_count": 11,
     "metadata": {},
     "output_type": "execute_result"
    }
   ],
   "source": [
    "etd = pd.read_csv(\n",
    "    DATA_DIRECTORY / airport / f\"{airport}_etd.csv.bz2\",\n",
    "    parse_dates=[\"departure_runway_estimated_time\", \"timestamp\"],\n",
    ")\n",
    "etd.head(5)"
   ]
  },
  {
   "cell_type": "markdown",
   "id": "3cc52234-a6fd-4d5b-871e-5bd12e6afe64",
   "metadata": {},
   "source": [
    "## MFS"
   ]
  },
  {
   "cell_type": "code",
   "execution_count": 14,
   "id": "46f21307-2daf-44ed-9dc8-33c8839ab0be",
   "metadata": {},
   "outputs": [],
   "source": [
    "# TODO"
   ]
  },
  {
   "cell_type": "markdown",
   "id": "f83535e6-1996-48cd-920a-c7f85c125321",
   "metadata": {},
   "source": [
    "# Filter Data"
   ]
  },
  {
   "cell_type": "code",
   "execution_count": 16,
   "id": "f336431f-23ba-4536-9672-127414ead5bc",
   "metadata": {},
   "outputs": [],
   "source": [
    "submission_format = pd.read_csv(\n",
    "    DATA_DIRECTORY / \"submission_format.csv\", parse_dates=[\"timestamp\"]\n",
    ")"
   ]
  },
  {
   "cell_type": "code",
   "execution_count": 17,
   "id": "65c23232-24f3-4e2b-b047-3bf894d04b80",
   "metadata": {},
   "outputs": [
    {
     "data": {
      "text/plain": [
       "gufi                      DAL1568.DEN.SLC.201114.1257.0100.TFM\n",
       "timestamp                                  2020-11-15 12:00:00\n",
       "airport                                                   KDEN\n",
       "minutes_until_pushback                                       0\n",
       "Name: 545, dtype: object"
      ]
     },
     "execution_count": 17,
     "metadata": {},
     "output_type": "execute_result"
    }
   ],
   "source": [
    "row = submission_format.iloc[545]\n",
    "row"
   ]
  },
  {
   "cell_type": "code",
   "execution_count": 18,
   "id": "378708c5-f4d8-4fd7-8e00-693a8d960e12",
   "metadata": {},
   "outputs": [
    {
     "data": {
      "text/plain": [
       "Timestamp('2020-11-15 12:00:00')"
      ]
     },
     "execution_count": 18,
     "metadata": {},
     "output_type": "execute_result"
    }
   ],
   "source": [
    "current_time = row.timestamp\n",
    "current_time"
   ]
  },
  {
   "cell_type": "code",
   "execution_count": 20,
   "id": "cc27b82f-b7fb-4a7a-8af9-c318b0ae09b0",
   "metadata": {},
   "outputs": [
    {
     "data": {
      "text/plain": [
       "Timestamp('2020-11-14 06:00:00')"
      ]
     },
     "execution_count": 20,
     "metadata": {},
     "output_type": "execute_result"
    }
   ],
   "source": [
    "valid_time = current_time - timedelta(hours=30)\n",
    "valid_time"
   ]
  },
  {
   "cell_type": "markdown",
   "id": "d79eb8fe-027e-4147-b9a4-646d43321f91",
   "metadata": {},
   "source": [
    "## Filtered LAMP"
   ]
  },
  {
   "cell_type": "code",
   "execution_count": 32,
   "id": "b5b00c7c-06c7-472d-bdc5-bc4d0ad1de5e",
   "metadata": {},
   "outputs": [
    {
     "data": {
      "text/plain": [
       "timestamp             2020-11-15 11:30:00\n",
       "forecast_timestamp    2020-11-15 12:00:00\n",
       "temperature                            22\n",
       "wind_direction                         16\n",
       "wind_speed                              9\n",
       "wind_gust                               0\n",
       "cloud_ceiling                         8.0\n",
       "visibility                              7\n",
       "cloud                                  FW\n",
       "lightning_prob                          N\n",
       "precip                              False\n",
       "Name: 1025, dtype: object"
      ]
     },
     "execution_count": 32,
     "metadata": {},
     "output_type": "execute_result"
    }
   ],
   "source": [
    "valid_lamp = lamp.loc[(lamp.timestamp <= current_time) \n",
    "                    & (lamp.timestamp > valid_time) \n",
    "                    & (lamp.forecast_timestamp <= current_time) \n",
    "                    & (lamp.forecast_timestamp > valid_time)]\n",
    "valid_lamp.iloc[-1]"
   ]
  },
  {
   "cell_type": "markdown",
   "id": "a785953d-2758-4218-bd36-444f2e4d29eb",
   "metadata": {},
   "source": [
    "## Filtered TBFM"
   ]
  },
  {
   "cell_type": "code",
   "execution_count": 40,
   "id": "e0d7530b-154d-4751-92c8-6e7d1ed4c0ce",
   "metadata": {},
   "outputs": [
    {
     "data": {
      "text/plain": [
       "559"
      ]
     },
     "execution_count": 40,
     "metadata": {},
     "output_type": "execute_result"
    }
   ],
   "source": [
    "valid_tbfm = tbfm.loc[(tbfm.timestamp <= current_time) \n",
    "                    & (tbfm.timestamp > valid_time) ]\n",
    "valid_tbfm['gufi'].nunique()"
   ]
  },
  {
   "cell_type": "markdown",
   "id": "1e38807c-53d4-4a2a-9b1f-ae38aed93443",
   "metadata": {},
   "source": [
    "## Filtered ETD"
   ]
  },
  {
   "cell_type": "code",
   "execution_count": 27,
   "id": "44effb2e-3b12-4203-b70a-44f979c2eb17",
   "metadata": {},
   "outputs": [
    {
     "data": {
      "text/plain": [
       "gufi                               DAL1568.DEN.SLC.201114.1257.0100.TFM\n",
       "timestamp                                           2020-11-15 10:34:03\n",
       "departure_runway_estimated_time                     2020-11-15 13:26:00\n",
       "Name: 16466, dtype: object"
      ]
     },
     "execution_count": 27,
     "metadata": {},
     "output_type": "execute_result"
    }
   ],
   "source": [
    "valid_etd = etd.loc[(etd.timestamp <= current_time) \n",
    "                    & (etd.timestamp > valid_time) \n",
    "                    & (etd.gufi == row.gufi)]\n",
    "valid_etd.iloc[-1]"
   ]
  },
  {
   "cell_type": "code",
   "execution_count": null,
   "id": "ea390c00-8624-4cdb-b3e8-881dd9c0936f",
   "metadata": {},
   "outputs": [],
   "source": []
  }
 ],
 "metadata": {
  "kernelspec": {
   "display_name": "myenv",
   "language": "python",
   "name": "myenv"
  },
  "language_info": {
   "codemirror_mode": {
    "name": "ipython",
    "version": 3
   },
   "file_extension": ".py",
   "mimetype": "text/x-python",
   "name": "python",
   "nbconvert_exporter": "python",
   "pygments_lexer": "ipython3",
   "version": "3.9.15"
  }
 },
 "nbformat": 4,
 "nbformat_minor": 5
}
