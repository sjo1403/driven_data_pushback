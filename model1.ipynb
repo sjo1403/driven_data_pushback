{
 "cells": [
  {
   "cell_type": "markdown",
   "id": "bec811de-39c5-4354-815f-e74be6e3ba0a",
   "metadata": {},
   "source": [
    "# Read in data"
   ]
  },
  {
   "cell_type": "code",
   "execution_count": 1,
   "id": "51c9f5b6-4db2-45f0-a654-87aaa2b68e04",
   "metadata": {},
   "outputs": [],
   "source": [
    "from datetime import timedelta\n",
    "from pathlib import Path\n",
    "\n",
    "import matplotlib.pyplot as plt\n",
    "import numpy as np\n",
    "import pandas as pd\n",
    "\n",
    "airports = [\n",
    "    \"KATL\",\n",
    "    \"KCLT\",\n",
    "    \"KDEN\",\n",
    "    \"KDFW\",\n",
    "    \"KJFK\",\n",
    "    \"KMEM\",\n",
    "    \"KMIA\",\n",
    "    \"KORD\",\n",
    "    \"KPHX\",\n",
    "    \"KSEA\",\n",
    "]"
   ]
  },
  {
   "cell_type": "code",
   "execution_count": 2,
   "id": "3f0425df-45f5-4e78-999e-5a0a4df5150e",
   "metadata": {},
   "outputs": [],
   "source": [
    "DATA_DIRECTORY = Path(\"code execution development data/old\")"
   ]
  },
  {
   "cell_type": "markdown",
   "id": "b4bedd71-f066-4a2f-8f2c-150ba1546381",
   "metadata": {},
   "source": [
    "## LAMP"
   ]
  },
  {
   "cell_type": "code",
   "execution_count": 3,
   "id": "e13afafd-38ec-45a6-bfb2-b37f02853fee",
   "metadata": {},
   "outputs": [],
   "source": [
    "def read_lamp():\n",
    "    lamp = pd.read_csv(\n",
    "        DATA_DIRECTORY / airport / f\"{airport}_lamp.csv.bz2\",\n",
    "        parse_dates=[\"timestamp\", \"forecast_timestamp\"],\n",
    "        dtype={\"temperature\": \"int16\", \"wind_direction\":\"int16\", \"wind_gust\":\"int16\", \"cloud_ceiling\":\"float16\", \"visibility\":\"int16\"}\n",
    "    )\n",
    "    return lamp"
   ]
  },
  {
   "cell_type": "markdown",
   "id": "34748bf6-8f89-451f-8820-511281005434",
   "metadata": {},
   "source": [
    "## TBFM"
   ]
  },
  {
   "cell_type": "code",
   "execution_count": 4,
   "id": "29c9fd54-6213-4161-bbc1-ca9f01b737af",
   "metadata": {},
   "outputs": [],
   "source": [
    "def read_tbfm():\n",
    "    tbfm = pd.read_csv(\n",
    "        DATA_DIRECTORY / airport / f\"{airport}_tbfm.csv.bz2\",\n",
    "        parse_dates=[\"timestamp\", \"scheduled_runway_estimated_time\"]\n",
    "    )\n",
    "    return tbfm"
   ]
  },
  {
   "cell_type": "markdown",
   "id": "d3957e11-71ff-47ed-97b6-3199d23f7ae8",
   "metadata": {},
   "source": [
    "## ETD"
   ]
  },
  {
   "cell_type": "code",
   "execution_count": 5,
   "id": "6fa924bf-7e33-427e-89db-d668994ba24d",
   "metadata": {},
   "outputs": [],
   "source": [
    "def read_etd():\n",
    "    etd = pd.read_csv(\n",
    "        DATA_DIRECTORY / airport / f\"{airport}_etd.csv.bz2\",\n",
    "        parse_dates=[\"departure_runway_estimated_time\", \"timestamp\"]\n",
    "    )\n",
    "    return etd"
   ]
  },
  {
   "cell_type": "markdown",
   "id": "3cc52234-a6fd-4d5b-871e-5bd12e6afe64",
   "metadata": {},
   "source": [
    "## MFS"
   ]
  },
  {
   "cell_type": "code",
   "execution_count": 6,
   "id": "46f21307-2daf-44ed-9dc8-33c8839ab0be",
   "metadata": {},
   "outputs": [],
   "source": [
    "def read_mfs():\n",
    "    etd = pd.read_csv(\n",
    "        DATA_DIRECTORY / airport / f\"{airport}_mfs.csv.bz2\"\n",
    "    )\n",
    "    return etd"
   ]
  },
  {
   "cell_type": "markdown",
   "id": "fc4997b5-8396-404d-b2a6-6f2e08f317ea",
   "metadata": {},
   "source": [
    "# Initial Model, Linear Regression"
   ]
  },
  {
   "cell_type": "code",
   "execution_count": 7,
   "id": "f336431f-23ba-4536-9672-127414ead5bc",
   "metadata": {},
   "outputs": [],
   "source": [
    "submission_format = pd.read_csv(\n",
    "    \"code execution development data/test_labels.csv\", parse_dates=[\"timestamp\"]\n",
    ")"
   ]
  },
  {
   "cell_type": "code",
   "execution_count": 8,
   "id": "57e719ed-df88-431a-95ea-986976924ce0",
   "metadata": {},
   "outputs": [
    {
     "data": {
      "text/html": [
       "<div>\n",
       "<style scoped>\n",
       "    .dataframe tbody tr th:only-of-type {\n",
       "        vertical-align: middle;\n",
       "    }\n",
       "\n",
       "    .dataframe tbody tr th {\n",
       "        vertical-align: top;\n",
       "    }\n",
       "\n",
       "    .dataframe thead th {\n",
       "        text-align: right;\n",
       "    }\n",
       "</style>\n",
       "<table border=\"1\" class=\"dataframe\">\n",
       "  <thead>\n",
       "    <tr style=\"text-align: right;\">\n",
       "      <th></th>\n",
       "      <th>gufi</th>\n",
       "      <th>timestamp</th>\n",
       "      <th>airport</th>\n",
       "      <th>minutes_until_pushback</th>\n",
       "    </tr>\n",
       "  </thead>\n",
       "  <tbody>\n",
       "    <tr>\n",
       "      <th>0</th>\n",
       "      <td>AAL1227.ATL.MIA.201114.1242.0052.TFM</td>\n",
       "      <td>2020-11-15 11:15:00</td>\n",
       "      <td>KATL</td>\n",
       "      <td>86</td>\n",
       "    </tr>\n",
       "    <tr>\n",
       "      <th>1</th>\n",
       "      <td>AAL1227.ATL.MIA.201114.1242.0052.TFM</td>\n",
       "      <td>2020-11-15 12:00:00</td>\n",
       "      <td>KATL</td>\n",
       "      <td>41</td>\n",
       "    </tr>\n",
       "    <tr>\n",
       "      <th>2</th>\n",
       "      <td>AAL153.ATL.CLT.201114.1137.0016.TFM</td>\n",
       "      <td>2020-11-15 10:30:00</td>\n",
       "      <td>KATL</td>\n",
       "      <td>62</td>\n",
       "    </tr>\n",
       "    <tr>\n",
       "      <th>3</th>\n",
       "      <td>AAL153.ATL.CLT.201114.1137.0016.TFM</td>\n",
       "      <td>2020-11-15 11:15:00</td>\n",
       "      <td>KATL</td>\n",
       "      <td>17</td>\n",
       "    </tr>\n",
       "    <tr>\n",
       "      <th>4</th>\n",
       "      <td>AAL1567.ATL.DFW.201114.1257.0271.TFM</td>\n",
       "      <td>2020-11-15 12:00:00</td>\n",
       "      <td>KATL</td>\n",
       "      <td>53</td>\n",
       "    </tr>\n",
       "  </tbody>\n",
       "</table>\n",
       "</div>"
      ],
      "text/plain": [
       "                                   gufi           timestamp airport  \\\n",
       "0  AAL1227.ATL.MIA.201114.1242.0052.TFM 2020-11-15 11:15:00    KATL   \n",
       "1  AAL1227.ATL.MIA.201114.1242.0052.TFM 2020-11-15 12:00:00    KATL   \n",
       "2   AAL153.ATL.CLT.201114.1137.0016.TFM 2020-11-15 10:30:00    KATL   \n",
       "3   AAL153.ATL.CLT.201114.1137.0016.TFM 2020-11-15 11:15:00    KATL   \n",
       "4  AAL1567.ATL.DFW.201114.1257.0271.TFM 2020-11-15 12:00:00    KATL   \n",
       "\n",
       "   minutes_until_pushback  \n",
       "0                      86  \n",
       "1                      41  \n",
       "2                      62  \n",
       "3                      17  \n",
       "4                      53  "
      ]
     },
     "execution_count": 8,
     "metadata": {},
     "output_type": "execute_result"
    }
   ],
   "source": [
    "df = submission_format\n",
    "df.head(5)"
   ]
  },
  {
   "cell_type": "code",
   "execution_count": 9,
   "id": "5bf56995-ea67-4995-a8c8-852102072e8c",
   "metadata": {},
   "outputs": [
    {
     "data": {
      "text/plain": [
       "(2046, 4)"
      ]
     },
     "execution_count": 9,
     "metadata": {},
     "output_type": "execute_result"
    }
   ],
   "source": [
    "df.shape"
   ]
  },
  {
   "cell_type": "markdown",
   "id": "e84e5202-7656-4233-bf3c-cc75f915d8e3",
   "metadata": {},
   "source": [
    "## Insert Data"
   ]
  },
  {
   "cell_type": "code",
   "execution_count": 10,
   "id": "6d8499d0-bb0d-4b26-a7de-e797dc1a3370",
   "metadata": {},
   "outputs": [
    {
     "data": {
      "text/html": [
       "<div>\n",
       "<style scoped>\n",
       "    .dataframe tbody tr th:only-of-type {\n",
       "        vertical-align: middle;\n",
       "    }\n",
       "\n",
       "    .dataframe tbody tr th {\n",
       "        vertical-align: top;\n",
       "    }\n",
       "\n",
       "    .dataframe thead th {\n",
       "        text-align: right;\n",
       "    }\n",
       "</style>\n",
       "<table border=\"1\" class=\"dataframe\">\n",
       "  <thead>\n",
       "    <tr style=\"text-align: right;\">\n",
       "      <th></th>\n",
       "      <th>gufi</th>\n",
       "      <th>timestamp</th>\n",
       "      <th>airport</th>\n",
       "      <th>minutes_until_pushback</th>\n",
       "      <th>etd</th>\n",
       "      <th>traffic</th>\n",
       "      <th>precip</th>\n",
       "      <th>lightning_prob</th>\n",
       "      <th>cloud</th>\n",
       "      <th>visibility</th>\n",
       "      <th>cloud_ceiling</th>\n",
       "      <th>wind_gust</th>\n",
       "      <th>wind_speed</th>\n",
       "      <th>wind_direction</th>\n",
       "      <th>temperature</th>\n",
       "    </tr>\n",
       "  </thead>\n",
       "  <tbody>\n",
       "    <tr>\n",
       "      <th>0</th>\n",
       "      <td>AAL1227.ATL.MIA.201114.1242.0052.TFM</td>\n",
       "      <td>2020-11-15 11:15:00</td>\n",
       "      <td>KATL</td>\n",
       "      <td>86</td>\n",
       "      <td></td>\n",
       "      <td></td>\n",
       "      <td></td>\n",
       "      <td></td>\n",
       "      <td></td>\n",
       "      <td></td>\n",
       "      <td></td>\n",
       "      <td></td>\n",
       "      <td></td>\n",
       "      <td></td>\n",
       "      <td></td>\n",
       "    </tr>\n",
       "    <tr>\n",
       "      <th>1</th>\n",
       "      <td>AAL1227.ATL.MIA.201114.1242.0052.TFM</td>\n",
       "      <td>2020-11-15 12:00:00</td>\n",
       "      <td>KATL</td>\n",
       "      <td>41</td>\n",
       "      <td></td>\n",
       "      <td></td>\n",
       "      <td></td>\n",
       "      <td></td>\n",
       "      <td></td>\n",
       "      <td></td>\n",
       "      <td></td>\n",
       "      <td></td>\n",
       "      <td></td>\n",
       "      <td></td>\n",
       "      <td></td>\n",
       "    </tr>\n",
       "    <tr>\n",
       "      <th>2</th>\n",
       "      <td>AAL153.ATL.CLT.201114.1137.0016.TFM</td>\n",
       "      <td>2020-11-15 10:30:00</td>\n",
       "      <td>KATL</td>\n",
       "      <td>62</td>\n",
       "      <td></td>\n",
       "      <td></td>\n",
       "      <td></td>\n",
       "      <td></td>\n",
       "      <td></td>\n",
       "      <td></td>\n",
       "      <td></td>\n",
       "      <td></td>\n",
       "      <td></td>\n",
       "      <td></td>\n",
       "      <td></td>\n",
       "    </tr>\n",
       "    <tr>\n",
       "      <th>3</th>\n",
       "      <td>AAL153.ATL.CLT.201114.1137.0016.TFM</td>\n",
       "      <td>2020-11-15 11:15:00</td>\n",
       "      <td>KATL</td>\n",
       "      <td>17</td>\n",
       "      <td></td>\n",
       "      <td></td>\n",
       "      <td></td>\n",
       "      <td></td>\n",
       "      <td></td>\n",
       "      <td></td>\n",
       "      <td></td>\n",
       "      <td></td>\n",
       "      <td></td>\n",
       "      <td></td>\n",
       "      <td></td>\n",
       "    </tr>\n",
       "    <tr>\n",
       "      <th>4</th>\n",
       "      <td>AAL1567.ATL.DFW.201114.1257.0271.TFM</td>\n",
       "      <td>2020-11-15 12:00:00</td>\n",
       "      <td>KATL</td>\n",
       "      <td>53</td>\n",
       "      <td></td>\n",
       "      <td></td>\n",
       "      <td></td>\n",
       "      <td></td>\n",
       "      <td></td>\n",
       "      <td></td>\n",
       "      <td></td>\n",
       "      <td></td>\n",
       "      <td></td>\n",
       "      <td></td>\n",
       "      <td></td>\n",
       "    </tr>\n",
       "  </tbody>\n",
       "</table>\n",
       "</div>"
      ],
      "text/plain": [
       "                                   gufi           timestamp airport  \\\n",
       "0  AAL1227.ATL.MIA.201114.1242.0052.TFM 2020-11-15 11:15:00    KATL   \n",
       "1  AAL1227.ATL.MIA.201114.1242.0052.TFM 2020-11-15 12:00:00    KATL   \n",
       "2   AAL153.ATL.CLT.201114.1137.0016.TFM 2020-11-15 10:30:00    KATL   \n",
       "3   AAL153.ATL.CLT.201114.1137.0016.TFM 2020-11-15 11:15:00    KATL   \n",
       "4  AAL1567.ATL.DFW.201114.1257.0271.TFM 2020-11-15 12:00:00    KATL   \n",
       "\n",
       "   minutes_until_pushback etd traffic precip lightning_prob cloud visibility  \\\n",
       "0                      86                                                      \n",
       "1                      41                                                      \n",
       "2                      62                                                      \n",
       "3                      17                                                      \n",
       "4                      53                                                      \n",
       "\n",
       "  cloud_ceiling wind_gust wind_speed wind_direction temperature  \n",
       "0                                                                \n",
       "1                                                                \n",
       "2                                                                \n",
       "3                                                                \n",
       "4                                                                "
      ]
     },
     "execution_count": 10,
     "metadata": {},
     "output_type": "execute_result"
    }
   ],
   "source": [
    "# add empty columns\n",
    "columns = ['etd',\n",
    "           'traffic',\n",
    "           'precip',\n",
    "           'lightning_prob',\n",
    "           'cloud',\n",
    "           'visibility',\n",
    "           'cloud_ceiling',\n",
    "           'wind_gust',\n",
    "           'wind_speed',\n",
    "           'wind_direction',\n",
    "           'temperature']\n",
    "\n",
    "for col in columns:\n",
    "    df[col] = ''\n",
    "    \n",
    "df.head(5)"
   ]
  },
  {
   "cell_type": "code",
   "execution_count": 11,
   "id": "567471b1-c40e-4ff8-b4a0-32ef006165b8",
   "metadata": {},
   "outputs": [],
   "source": [
    "def filter_lamp(current_time):\n",
    "    # weather data\n",
    "    valid_lamp = lamp.loc[(lamp.timestamp <= current_time) \n",
    "                    & (lamp.timestamp > valid_time) \n",
    "                    & (lamp.forecast_timestamp <= current_time) \n",
    "                    & (lamp.forecast_timestamp > valid_time)]\n",
    "    return valid_lamp.iloc[-1]\n",
    "    \n",
    "def filter_tbfm(current_time):\n",
    "    # traffic data\n",
    "    valid_tbfm = tbfm.loc[(tbfm.timestamp <= current_time) \n",
    "                    & (tbfm.timestamp > valid_time) ]\n",
    "    return valid_tbfm['gufi'].nunique()\n",
    "    \n",
    "def filter_etd(current_time):    \n",
    "    #etd data\n",
    "    valid_etd = etd.loc[(etd.timestamp <= current_time) \n",
    "                    & (etd.timestamp > valid_time) \n",
    "                    & (etd.gufi == df.loc[i].gufi)]\n",
    "    try:\n",
    "        return (valid_etd.iloc[-1].departure_runway_estimated_time - current_time).total_seconds()\n",
    "    except:\n",
    "        return 3600"
   ]
  },
  {
   "cell_type": "code",
   "execution_count": 12,
   "id": "ff619b95-a938-4264-b16b-a6ed7a25b8bd",
   "metadata": {
    "tags": []
   },
   "outputs": [
    {
     "name": "stderr",
     "output_type": "stream",
     "text": [
      "C:\\Users\\Shantel\\AppData\\Local\\Temp\\ipykernel_19164\\2577368176.py:2: DtypeWarning: Columns (3) have mixed types. Specify dtype option on import or set low_memory=False.\n",
      "  etd = pd.read_csv(\n",
      "C:\\Users\\Shantel\\AppData\\Local\\Temp\\ipykernel_19164\\2577368176.py:2: DtypeWarning: Columns (3) have mixed types. Specify dtype option on import or set low_memory=False.\n",
      "  etd = pd.read_csv(\n"
     ]
    }
   ],
   "source": [
    "for a in airports:\n",
    "    \n",
    "    times = df.timestamp.unique()\n",
    "    gufis = df.gufi.unique()\n",
    "    airport = a\n",
    "\n",
    "    etd = read_etd()\n",
    "    mfs = read_mfs()\n",
    "    tbfm = read_tbfm()\n",
    "    lamp = read_lamp()\n",
    "\n",
    "    for t in times:\n",
    "        current_time = pd.to_datetime(t)\n",
    "        valid_time = current_time - pd.Timedelta(30, unit='hours')\n",
    "        indices = df[df.timestamp == t].index\n",
    "\n",
    "        # insert etd data\n",
    "        for i in indices:\n",
    "            df.loc[i, 'etd'] = filter_etd(current_time)\n",
    "\n",
    "        # insert traffic data\n",
    "        df.loc[indices, 'traffic'] = filter_tbfm(current_time)\n",
    "\n",
    "        # insert weather data\n",
    "        df.loc[indices, 'precip'] = filter_lamp(current_time).precip\n",
    "        df.loc[indices, 'lightning_prob'] = filter_lamp(current_time).lightning_prob\n",
    "        df.loc[indices, 'cloud'] = filter_lamp(current_time).cloud\n",
    "        df.loc[indices, 'visibility'] = filter_lamp(current_time).visibility\n",
    "        df.loc[indices, 'cloud_ceiling'] = filter_lamp(current_time).cloud_ceiling\n",
    "        df.loc[indices, 'wind_gust'] = filter_lamp(current_time).wind_gust\n",
    "        df.loc[indices, 'wind_speed'] = filter_lamp(current_time).wind_speed\n",
    "        df.loc[indices, 'wind_direction'] = filter_lamp(current_time).wind_direction\n",
    "        df.loc[indices, 'temperature'] = filter_lamp(current_time).temperature\n",
    "\n",
    "    df.head(5)"
   ]
  },
  {
   "cell_type": "markdown",
   "id": "977b5b1b-aff8-41d1-816a-19ab88cf7ef2",
   "metadata": {},
   "source": [
    "## Feature Engineering"
   ]
  },
  {
   "cell_type": "code",
   "execution_count": 13,
   "id": "4c4c89c0-7c3a-4e74-b128-2388d30a55cb",
   "metadata": {},
   "outputs": [
    {
     "data": {
      "text/plain": [
       "gufi                      1228\n",
       "timestamp                   17\n",
       "airport                     10\n",
       "minutes_until_pushback     133\n",
       "etd                         83\n",
       "traffic                     17\n",
       "precip                       2\n",
       "lightning_prob               1\n",
       "cloud                        1\n",
       "visibility                   3\n",
       "cloud_ceiling                4\n",
       "wind_gust                    3\n",
       "wind_speed                   6\n",
       "wind_direction               7\n",
       "temperature                  4\n",
       "dtype: int64"
      ]
     },
     "execution_count": 13,
     "metadata": {},
     "output_type": "execute_result"
    }
   ],
   "source": [
    "df.nunique()"
   ]
  },
  {
   "cell_type": "code",
   "execution_count": 14,
   "id": "2ecf0375-6666-4f35-9f7b-41fd5622130c",
   "metadata": {},
   "outputs": [],
   "source": [
    "# binary encoding\n",
    "df.replace(False, 0, inplace=True)\n",
    "df.replace(True, 0, inplace=True)"
   ]
  },
  {
   "cell_type": "code",
   "execution_count": 15,
   "id": "2f71cb55-b08b-4dc0-a12f-36de447aed62",
   "metadata": {},
   "outputs": [
    {
     "data": {
      "text/html": [
       "<div>\n",
       "<style scoped>\n",
       "    .dataframe tbody tr th:only-of-type {\n",
       "        vertical-align: middle;\n",
       "    }\n",
       "\n",
       "    .dataframe tbody tr th {\n",
       "        vertical-align: top;\n",
       "    }\n",
       "\n",
       "    .dataframe thead th {\n",
       "        text-align: right;\n",
       "    }\n",
       "</style>\n",
       "<table border=\"1\" class=\"dataframe\">\n",
       "  <thead>\n",
       "    <tr style=\"text-align: right;\">\n",
       "      <th></th>\n",
       "      <th>gufi</th>\n",
       "      <th>timestamp</th>\n",
       "      <th>airport</th>\n",
       "      <th>minutes_until_pushback</th>\n",
       "      <th>etd</th>\n",
       "      <th>traffic</th>\n",
       "      <th>precip</th>\n",
       "      <th>visibility</th>\n",
       "      <th>cloud_ceiling</th>\n",
       "      <th>wind_gust</th>\n",
       "      <th>wind_speed</th>\n",
       "      <th>wind_direction</th>\n",
       "      <th>temperature</th>\n",
       "    </tr>\n",
       "  </thead>\n",
       "  <tbody>\n",
       "    <tr>\n",
       "      <th>0</th>\n",
       "      <td>AAL1227.ATL.MIA.201114.1242.0052.TFM</td>\n",
       "      <td>2020-11-15 11:15:00</td>\n",
       "      <td>KATL</td>\n",
       "      <td>86</td>\n",
       "      <td>3600.0</td>\n",
       "      <td>465</td>\n",
       "      <td>0</td>\n",
       "      <td>7</td>\n",
       "      <td>5.0</td>\n",
       "      <td>20</td>\n",
       "      <td>13</td>\n",
       "      <td>19</td>\n",
       "      <td>48</td>\n",
       "    </tr>\n",
       "    <tr>\n",
       "      <th>1</th>\n",
       "      <td>AAL1227.ATL.MIA.201114.1242.0052.TFM</td>\n",
       "      <td>2020-11-15 12:00:00</td>\n",
       "      <td>KATL</td>\n",
       "      <td>41</td>\n",
       "      <td>3600.0</td>\n",
       "      <td>452</td>\n",
       "      <td>0</td>\n",
       "      <td>7</td>\n",
       "      <td>7.0</td>\n",
       "      <td>0</td>\n",
       "      <td>13</td>\n",
       "      <td>19</td>\n",
       "      <td>48</td>\n",
       "    </tr>\n",
       "    <tr>\n",
       "      <th>2</th>\n",
       "      <td>AAL153.ATL.CLT.201114.1137.0016.TFM</td>\n",
       "      <td>2020-11-15 10:30:00</td>\n",
       "      <td>KATL</td>\n",
       "      <td>62</td>\n",
       "      <td>3600.0</td>\n",
       "      <td>481</td>\n",
       "      <td>0</td>\n",
       "      <td>5</td>\n",
       "      <td>4.0</td>\n",
       "      <td>22</td>\n",
       "      <td>14</td>\n",
       "      <td>19</td>\n",
       "      <td>48</td>\n",
       "    </tr>\n",
       "    <tr>\n",
       "      <th>3</th>\n",
       "      <td>AAL153.ATL.CLT.201114.1137.0016.TFM</td>\n",
       "      <td>2020-11-15 11:15:00</td>\n",
       "      <td>KATL</td>\n",
       "      <td>17</td>\n",
       "      <td>3600.0</td>\n",
       "      <td>465</td>\n",
       "      <td>0</td>\n",
       "      <td>7</td>\n",
       "      <td>5.0</td>\n",
       "      <td>20</td>\n",
       "      <td>13</td>\n",
       "      <td>19</td>\n",
       "      <td>48</td>\n",
       "    </tr>\n",
       "    <tr>\n",
       "      <th>4</th>\n",
       "      <td>AAL1567.ATL.DFW.201114.1257.0271.TFM</td>\n",
       "      <td>2020-11-15 12:00:00</td>\n",
       "      <td>KATL</td>\n",
       "      <td>53</td>\n",
       "      <td>3600.0</td>\n",
       "      <td>452</td>\n",
       "      <td>0</td>\n",
       "      <td>7</td>\n",
       "      <td>7.0</td>\n",
       "      <td>0</td>\n",
       "      <td>13</td>\n",
       "      <td>19</td>\n",
       "      <td>48</td>\n",
       "    </tr>\n",
       "  </tbody>\n",
       "</table>\n",
       "</div>"
      ],
      "text/plain": [
       "                                   gufi           timestamp airport  \\\n",
       "0  AAL1227.ATL.MIA.201114.1242.0052.TFM 2020-11-15 11:15:00    KATL   \n",
       "1  AAL1227.ATL.MIA.201114.1242.0052.TFM 2020-11-15 12:00:00    KATL   \n",
       "2   AAL153.ATL.CLT.201114.1137.0016.TFM 2020-11-15 10:30:00    KATL   \n",
       "3   AAL153.ATL.CLT.201114.1137.0016.TFM 2020-11-15 11:15:00    KATL   \n",
       "4  AAL1567.ATL.DFW.201114.1257.0271.TFM 2020-11-15 12:00:00    KATL   \n",
       "\n",
       "   minutes_until_pushback     etd  traffic  precip  visibility  cloud_ceiling  \\\n",
       "0                      86  3600.0      465       0           7            5.0   \n",
       "1                      41  3600.0      452       0           7            7.0   \n",
       "2                      62  3600.0      481       0           5            4.0   \n",
       "3                      17  3600.0      465       0           7            5.0   \n",
       "4                      53  3600.0      452       0           7            7.0   \n",
       "\n",
       "   wind_gust  wind_speed  wind_direction  temperature  \n",
       "0         20          13              19           48  \n",
       "1          0          13              19           48  \n",
       "2         22          14              19           48  \n",
       "3         20          13              19           48  \n",
       "4          0          13              19           48  "
      ]
     },
     "execution_count": 15,
     "metadata": {},
     "output_type": "execute_result"
    }
   ],
   "source": [
    "# nominal encoding\n",
    "df = pd.get_dummies(df, columns=['cloud', 'lightning_prob'], drop_first=True)\n",
    "df.head(5)"
   ]
  },
  {
   "cell_type": "markdown",
   "id": "8d009b4f-1783-41fc-ae33-95e734960d46",
   "metadata": {},
   "source": [
    "# Linear Regression"
   ]
  },
  {
   "cell_type": "markdown",
   "id": "8adbce73-1cc4-48fb-9eac-64258f0676e5",
   "metadata": {},
   "source": [
    "## Model 1"
   ]
  },
  {
   "cell_type": "code",
   "execution_count": 16,
   "id": "5b44c142-02a1-4e3e-bf6b-823b37b81733",
   "metadata": {},
   "outputs": [
    {
     "data": {
      "text/html": [
       "<table class=\"simpletable\">\n",
       "<caption>OLS Regression Results</caption>\n",
       "<tr>\n",
       "  <th>Dep. Variable:</th>    <td>minutes_until_pushback</td> <th>  R-squared:         </th> <td>   0.125</td> \n",
       "</tr>\n",
       "<tr>\n",
       "  <th>Model:</th>                      <td>OLS</td>          <th>  Adj. R-squared:    </th> <td>   0.122</td> \n",
       "</tr>\n",
       "<tr>\n",
       "  <th>Method:</th>                <td>Least Squares</td>     <th>  F-statistic:       </th> <td>   36.41</td> \n",
       "</tr>\n",
       "<tr>\n",
       "  <th>Date:</th>                <td>Sat, 01 Apr 2023</td>    <th>  Prob (F-statistic):</th> <td>2.66e-54</td> \n",
       "</tr>\n",
       "<tr>\n",
       "  <th>Time:</th>                    <td>16:31:32</td>        <th>  Log-Likelihood:    </th> <td> -9666.3</td> \n",
       "</tr>\n",
       "<tr>\n",
       "  <th>No. Observations:</th>         <td>  2046</td>         <th>  AIC:               </th> <td>1.935e+04</td>\n",
       "</tr>\n",
       "<tr>\n",
       "  <th>Df Residuals:</th>             <td>  2037</td>         <th>  BIC:               </th> <td>1.940e+04</td>\n",
       "</tr>\n",
       "<tr>\n",
       "  <th>Df Model:</th>                 <td>     8</td>         <th>                     </th>     <td> </td>    \n",
       "</tr>\n",
       "<tr>\n",
       "  <th>Covariance Type:</th>         <td>nonrobust</td>       <th>                     </th>     <td> </td>    \n",
       "</tr>\n",
       "</table>\n",
       "<table class=\"simpletable\">\n",
       "<tr>\n",
       "         <td></td>           <th>coef</th>     <th>std err</th>      <th>t</th>      <th>P>|t|</th>  <th>[0.025</th>    <th>0.975]</th>  \n",
       "</tr>\n",
       "<tr>\n",
       "  <th>const</th>          <td>  -89.9918</td> <td>   59.459</td> <td>   -1.514</td> <td> 0.130</td> <td> -206.598</td> <td>   26.615</td>\n",
       "</tr>\n",
       "<tr>\n",
       "  <th>etd</th>            <td>    0.0154</td> <td>    0.001</td> <td>   13.186</td> <td> 0.000</td> <td>    0.013</td> <td>    0.018</td>\n",
       "</tr>\n",
       "<tr>\n",
       "  <th>traffic</th>        <td>    0.2799</td> <td>    0.057</td> <td>    4.944</td> <td> 0.000</td> <td>    0.169</td> <td>    0.391</td>\n",
       "</tr>\n",
       "<tr>\n",
       "  <th>precip</th>         <td> 9.775e-13</td> <td> 6.39e-13</td> <td>    1.529</td> <td> 0.126</td> <td>-2.76e-13</td> <td> 2.23e-12</td>\n",
       "</tr>\n",
       "<tr>\n",
       "  <th>visibility</th>     <td>   -6.0634</td> <td>    1.758</td> <td>   -3.449</td> <td> 0.001</td> <td>   -9.511</td> <td>   -2.616</td>\n",
       "</tr>\n",
       "<tr>\n",
       "  <th>cloud_ceiling</th>  <td>    5.6085</td> <td>    3.683</td> <td>    1.523</td> <td> 0.128</td> <td>   -1.614</td> <td>   12.831</td>\n",
       "</tr>\n",
       "<tr>\n",
       "  <th>wind_gust</th>      <td>    0.1210</td> <td>    0.401</td> <td>    0.302</td> <td> 0.763</td> <td>   -0.665</td> <td>    0.907</td>\n",
       "</tr>\n",
       "<tr>\n",
       "  <th>wind_speed</th>     <td>    1.3508</td> <td>    0.636</td> <td>    2.123</td> <td> 0.034</td> <td>    0.103</td> <td>    2.598</td>\n",
       "</tr>\n",
       "<tr>\n",
       "  <th>wind_direction</th> <td>   12.0133</td> <td>    1.821</td> <td>    6.598</td> <td> 0.000</td> <td>    8.443</td> <td>   15.584</td>\n",
       "</tr>\n",
       "<tr>\n",
       "  <th>temperature</th>    <td>   -5.8171</td> <td>    1.776</td> <td>   -3.275</td> <td> 0.001</td> <td>   -9.301</td> <td>   -2.333</td>\n",
       "</tr>\n",
       "</table>\n",
       "<table class=\"simpletable\">\n",
       "<tr>\n",
       "  <th>Omnibus:</th>       <td>641.721</td> <th>  Durbin-Watson:     </th> <td>   2.114</td>\n",
       "</tr>\n",
       "<tr>\n",
       "  <th>Prob(Omnibus):</th> <td> 0.000</td>  <th>  Jarque-Bera (JB):  </th> <td>4169.744</td>\n",
       "</tr>\n",
       "<tr>\n",
       "  <th>Skew:</th>          <td> 1.314</td>  <th>  Prob(JB):          </th> <td>    0.00</td>\n",
       "</tr>\n",
       "<tr>\n",
       "  <th>Kurtosis:</th>      <td> 9.481</td>  <th>  Cond. No.          </th> <td>5.51e+19</td>\n",
       "</tr>\n",
       "</table><br/><br/>Notes:<br/>[1] Standard Errors assume that the covariance matrix of the errors is correctly specified.<br/>[2] The smallest eigenvalue is  9e-30. This might indicate that there are<br/>strong multicollinearity problems or that the design matrix is singular."
      ],
      "text/plain": [
       "<class 'statsmodels.iolib.summary.Summary'>\n",
       "\"\"\"\n",
       "                              OLS Regression Results                              \n",
       "==================================================================================\n",
       "Dep. Variable:     minutes_until_pushback   R-squared:                       0.125\n",
       "Model:                                OLS   Adj. R-squared:                  0.122\n",
       "Method:                     Least Squares   F-statistic:                     36.41\n",
       "Date:                    Sat, 01 Apr 2023   Prob (F-statistic):           2.66e-54\n",
       "Time:                            16:31:32   Log-Likelihood:                -9666.3\n",
       "No. Observations:                    2046   AIC:                         1.935e+04\n",
       "Df Residuals:                        2037   BIC:                         1.940e+04\n",
       "Df Model:                               8                                         \n",
       "Covariance Type:                nonrobust                                         \n",
       "==================================================================================\n",
       "                     coef    std err          t      P>|t|      [0.025      0.975]\n",
       "----------------------------------------------------------------------------------\n",
       "const            -89.9918     59.459     -1.514      0.130    -206.598      26.615\n",
       "etd                0.0154      0.001     13.186      0.000       0.013       0.018\n",
       "traffic            0.2799      0.057      4.944      0.000       0.169       0.391\n",
       "precip          9.775e-13   6.39e-13      1.529      0.126   -2.76e-13    2.23e-12\n",
       "visibility        -6.0634      1.758     -3.449      0.001      -9.511      -2.616\n",
       "cloud_ceiling      5.6085      3.683      1.523      0.128      -1.614      12.831\n",
       "wind_gust          0.1210      0.401      0.302      0.763      -0.665       0.907\n",
       "wind_speed         1.3508      0.636      2.123      0.034       0.103       2.598\n",
       "wind_direction    12.0133      1.821      6.598      0.000       8.443      15.584\n",
       "temperature       -5.8171      1.776     -3.275      0.001      -9.301      -2.333\n",
       "==============================================================================\n",
       "Omnibus:                      641.721   Durbin-Watson:                   2.114\n",
       "Prob(Omnibus):                  0.000   Jarque-Bera (JB):             4169.744\n",
       "Skew:                           1.314   Prob(JB):                         0.00\n",
       "Kurtosis:                       9.481   Cond. No.                     5.51e+19\n",
       "==============================================================================\n",
       "\n",
       "Notes:\n",
       "[1] Standard Errors assume that the covariance matrix of the errors is correctly specified.\n",
       "[2] The smallest eigenvalue is  9e-30. This might indicate that there are\n",
       "strong multicollinearity problems or that the design matrix is singular.\n",
       "\"\"\""
      ]
     },
     "execution_count": 16,
     "metadata": {},
     "output_type": "execute_result"
    }
   ],
   "source": [
    "import statsmodels.api as sm\n",
    "\n",
    "Y = df['minutes_until_pushback']\n",
    "X = df.drop(columns=['gufi', 'timestamp', 'airport', 'minutes_until_pushback'])\n",
    "X = sm.add_constant(X)\n",
    "\n",
    "model = sm.OLS(Y,X).fit()\n",
    "model.summary()"
   ]
  },
  {
   "cell_type": "code",
   "execution_count": 17,
   "id": "5ea3a5af-8aa5-4596-b8ea-cfd901b1e6fe",
   "metadata": {
    "tags": []
   },
   "outputs": [
    {
     "data": {
      "text/plain": [
       "20.472663123664596"
      ]
     },
     "execution_count": 17,
     "metadata": {},
     "output_type": "execute_result"
    }
   ],
   "source": [
    "# calculate MAE\n",
    "from sklearn.metrics import mean_absolute_error as mae\n",
    "ypred = model.predict()\n",
    "MAE = mae(Y, ypred)\n",
    "MAE"
   ]
  },
  {
   "cell_type": "code",
   "execution_count": 18,
   "id": "3ed5f81f-99c3-4057-998f-00be101e6412",
   "metadata": {},
   "outputs": [
    {
     "name": "stderr",
     "output_type": "stream",
     "text": [
      "C:\\Users\\Shantel\\.conda\\envs\\myenv\\lib\\site-packages\\statsmodels\\regression\\linear_model.py:1752: RuntimeWarning: invalid value encountered in double_scalars\n",
      "  return 1 - self.ssr/self.centered_tss\n"
     ]
    },
    {
     "data": {
      "text/html": [
       "<div>\n",
       "<style scoped>\n",
       "    .dataframe tbody tr th:only-of-type {\n",
       "        vertical-align: middle;\n",
       "    }\n",
       "\n",
       "    .dataframe tbody tr th {\n",
       "        vertical-align: top;\n",
       "    }\n",
       "\n",
       "    .dataframe thead th {\n",
       "        text-align: right;\n",
       "    }\n",
       "</style>\n",
       "<table border=\"1\" class=\"dataframe\">\n",
       "  <thead>\n",
       "    <tr style=\"text-align: right;\">\n",
       "      <th></th>\n",
       "      <th>feature</th>\n",
       "      <th>VIF</th>\n",
       "    </tr>\n",
       "  </thead>\n",
       "  <tbody>\n",
       "    <tr>\n",
       "      <th>0</th>\n",
       "      <td>const</td>\n",
       "      <td>9689.033556</td>\n",
       "    </tr>\n",
       "    <tr>\n",
       "      <th>1</th>\n",
       "      <td>etd</td>\n",
       "      <td>1.023361</td>\n",
       "    </tr>\n",
       "    <tr>\n",
       "      <th>2</th>\n",
       "      <td>traffic</td>\n",
       "      <td>35.626453</td>\n",
       "    </tr>\n",
       "    <tr>\n",
       "      <th>3</th>\n",
       "      <td>precip</td>\n",
       "      <td>NaN</td>\n",
       "    </tr>\n",
       "    <tr>\n",
       "      <th>4</th>\n",
       "      <td>visibility</td>\n",
       "      <td>6.470206</td>\n",
       "    </tr>\n",
       "    <tr>\n",
       "      <th>5</th>\n",
       "      <td>cloud_ceiling</td>\n",
       "      <td>16.181788</td>\n",
       "    </tr>\n",
       "    <tr>\n",
       "      <th>6</th>\n",
       "      <td>wind_gust</td>\n",
       "      <td>9.879754</td>\n",
       "    </tr>\n",
       "    <tr>\n",
       "      <th>7</th>\n",
       "      <td>wind_speed</td>\n",
       "      <td>5.577822</td>\n",
       "    </tr>\n",
       "    <tr>\n",
       "      <th>8</th>\n",
       "      <td>wind_direction</td>\n",
       "      <td>48.795503</td>\n",
       "    </tr>\n",
       "    <tr>\n",
       "      <th>9</th>\n",
       "      <td>temperature</td>\n",
       "      <td>18.125800</td>\n",
       "    </tr>\n",
       "  </tbody>\n",
       "</table>\n",
       "</div>"
      ],
      "text/plain": [
       "          feature          VIF\n",
       "0           const  9689.033556\n",
       "1             etd     1.023361\n",
       "2         traffic    35.626453\n",
       "3          precip          NaN\n",
       "4      visibility     6.470206\n",
       "5   cloud_ceiling    16.181788\n",
       "6       wind_gust     9.879754\n",
       "7      wind_speed     5.577822\n",
       "8  wind_direction    48.795503\n",
       "9     temperature    18.125800"
      ]
     },
     "execution_count": 18,
     "metadata": {},
     "output_type": "execute_result"
    }
   ],
   "source": [
    "# check for multicollinearity\n",
    "from statsmodels.stats.outliers_influence import variance_inflation_factor\n",
    "\n",
    "# create VIF dataframe\n",
    "vif_data = pd.DataFrame()\n",
    "vif_data[\"feature\"] = X.columns\n",
    "  \n",
    "# calculate VIF for each feature\n",
    "vif_data[\"VIF\"] = [variance_inflation_factor(X.values, i)\n",
    "                          for i in range(len(X.columns))]\n",
    "  \n",
    "vif_data"
   ]
  },
  {
   "cell_type": "markdown",
   "id": "79f4ff08-eb9f-44be-858b-47329fb3a732",
   "metadata": {},
   "source": [
    "## Model 2"
   ]
  },
  {
   "cell_type": "code",
   "execution_count": 19,
   "id": "f1a4f4a7-70dd-422c-9ed6-5d72e39b7cdc",
   "metadata": {},
   "outputs": [],
   "source": [
    "# reduce features\n",
    "from sklearn.linear_model import LinearRegression\n",
    "from sklearn.feature_selection import SequentialFeatureSelector\n",
    "\n",
    "# re-define independent variables\n",
    "X = df.drop(columns=['gufi', 'timestamp', 'airport', 'minutes_until_pushback'])\n",
    "\n",
    "# linear regression estimator to be used in feature selection\n",
    "reg = LinearRegression().fit(X, Y)"
   ]
  },
  {
   "cell_type": "code",
   "execution_count": 20,
   "id": "ad4ea403-ccab-4892-9ac8-814dd9afcc16",
   "metadata": {},
   "outputs": [
    {
     "data": {
      "text/html": [
       "<style>#sk-container-id-1 {color: black;background-color: white;}#sk-container-id-1 pre{padding: 0;}#sk-container-id-1 div.sk-toggleable {background-color: white;}#sk-container-id-1 label.sk-toggleable__label {cursor: pointer;display: block;width: 100%;margin-bottom: 0;padding: 0.3em;box-sizing: border-box;text-align: center;}#sk-container-id-1 label.sk-toggleable__label-arrow:before {content: \"▸\";float: left;margin-right: 0.25em;color: #696969;}#sk-container-id-1 label.sk-toggleable__label-arrow:hover:before {color: black;}#sk-container-id-1 div.sk-estimator:hover label.sk-toggleable__label-arrow:before {color: black;}#sk-container-id-1 div.sk-toggleable__content {max-height: 0;max-width: 0;overflow: hidden;text-align: left;background-color: #f0f8ff;}#sk-container-id-1 div.sk-toggleable__content pre {margin: 0.2em;color: black;border-radius: 0.25em;background-color: #f0f8ff;}#sk-container-id-1 input.sk-toggleable__control:checked~div.sk-toggleable__content {max-height: 200px;max-width: 100%;overflow: auto;}#sk-container-id-1 input.sk-toggleable__control:checked~label.sk-toggleable__label-arrow:before {content: \"▾\";}#sk-container-id-1 div.sk-estimator input.sk-toggleable__control:checked~label.sk-toggleable__label {background-color: #d4ebff;}#sk-container-id-1 div.sk-label input.sk-toggleable__control:checked~label.sk-toggleable__label {background-color: #d4ebff;}#sk-container-id-1 input.sk-hidden--visually {border: 0;clip: rect(1px 1px 1px 1px);clip: rect(1px, 1px, 1px, 1px);height: 1px;margin: -1px;overflow: hidden;padding: 0;position: absolute;width: 1px;}#sk-container-id-1 div.sk-estimator {font-family: monospace;background-color: #f0f8ff;border: 1px dotted black;border-radius: 0.25em;box-sizing: border-box;margin-bottom: 0.5em;}#sk-container-id-1 div.sk-estimator:hover {background-color: #d4ebff;}#sk-container-id-1 div.sk-parallel-item::after {content: \"\";width: 100%;border-bottom: 1px solid gray;flex-grow: 1;}#sk-container-id-1 div.sk-label:hover label.sk-toggleable__label {background-color: #d4ebff;}#sk-container-id-1 div.sk-serial::before {content: \"\";position: absolute;border-left: 1px solid gray;box-sizing: border-box;top: 0;bottom: 0;left: 50%;z-index: 0;}#sk-container-id-1 div.sk-serial {display: flex;flex-direction: column;align-items: center;background-color: white;padding-right: 0.2em;padding-left: 0.2em;position: relative;}#sk-container-id-1 div.sk-item {position: relative;z-index: 1;}#sk-container-id-1 div.sk-parallel {display: flex;align-items: stretch;justify-content: center;background-color: white;position: relative;}#sk-container-id-1 div.sk-item::before, #sk-container-id-1 div.sk-parallel-item::before {content: \"\";position: absolute;border-left: 1px solid gray;box-sizing: border-box;top: 0;bottom: 0;left: 50%;z-index: -1;}#sk-container-id-1 div.sk-parallel-item {display: flex;flex-direction: column;z-index: 1;position: relative;background-color: white;}#sk-container-id-1 div.sk-parallel-item:first-child::after {align-self: flex-end;width: 50%;}#sk-container-id-1 div.sk-parallel-item:last-child::after {align-self: flex-start;width: 50%;}#sk-container-id-1 div.sk-parallel-item:only-child::after {width: 0;}#sk-container-id-1 div.sk-dashed-wrapped {border: 1px dashed gray;margin: 0 0.4em 0.5em 0.4em;box-sizing: border-box;padding-bottom: 0.4em;background-color: white;}#sk-container-id-1 div.sk-label label {font-family: monospace;font-weight: bold;display: inline-block;line-height: 1.2em;}#sk-container-id-1 div.sk-label-container {text-align: center;}#sk-container-id-1 div.sk-container {/* jupyter's `normalize.less` sets `[hidden] { display: none; }` but bootstrap.min.css set `[hidden] { display: none !important; }` so we also need the `!important` here to be able to override the default hidden behavior on the sphinx rendered scikit-learn.org. See: https://github.com/scikit-learn/scikit-learn/issues/21755 */display: inline-block !important;position: relative;}#sk-container-id-1 div.sk-text-repr-fallback {display: none;}</style><div id=\"sk-container-id-1\" class=\"sk-top-container\"><div class=\"sk-text-repr-fallback\"><pre>SequentialFeatureSelector(estimator=LinearRegression(), n_features_to_select=4)</pre><b>In a Jupyter environment, please rerun this cell to show the HTML representation or trust the notebook. <br />On GitHub, the HTML representation is unable to render, please try loading this page with nbviewer.org.</b></div><div class=\"sk-container\" hidden><div class=\"sk-item sk-dashed-wrapped\"><div class=\"sk-label-container\"><div class=\"sk-label sk-toggleable\"><input class=\"sk-toggleable__control sk-hidden--visually\" id=\"sk-estimator-id-1\" type=\"checkbox\" ><label for=\"sk-estimator-id-1\" class=\"sk-toggleable__label sk-toggleable__label-arrow\">SequentialFeatureSelector</label><div class=\"sk-toggleable__content\"><pre>SequentialFeatureSelector(estimator=LinearRegression(), n_features_to_select=4)</pre></div></div></div><div class=\"sk-parallel\"><div class=\"sk-parallel-item\"><div class=\"sk-item\"><div class=\"sk-label-container\"><div class=\"sk-label sk-toggleable\"><input class=\"sk-toggleable__control sk-hidden--visually\" id=\"sk-estimator-id-2\" type=\"checkbox\" ><label for=\"sk-estimator-id-2\" class=\"sk-toggleable__label sk-toggleable__label-arrow\">estimator: LinearRegression</label><div class=\"sk-toggleable__content\"><pre>LinearRegression()</pre></div></div></div><div class=\"sk-serial\"><div class=\"sk-item\"><div class=\"sk-estimator sk-toggleable\"><input class=\"sk-toggleable__control sk-hidden--visually\" id=\"sk-estimator-id-3\" type=\"checkbox\" ><label for=\"sk-estimator-id-3\" class=\"sk-toggleable__label sk-toggleable__label-arrow\">LinearRegression</label><div class=\"sk-toggleable__content\"><pre>LinearRegression()</pre></div></div></div></div></div></div></div></div></div></div>"
      ],
      "text/plain": [
       "SequentialFeatureSelector(estimator=LinearRegression(), n_features_to_select=4)"
      ]
     },
     "execution_count": 20,
     "metadata": {},
     "output_type": "execute_result"
    }
   ],
   "source": [
    "# reduce features using SequentialFeatureSelector\n",
    "sfs = SequentialFeatureSelector(reg, n_features_to_select=4)\n",
    "sfs.fit(X, Y)"
   ]
  },
  {
   "cell_type": "code",
   "execution_count": 21,
   "id": "9385119e-e9d8-4c46-bde6-3132474d70c9",
   "metadata": {},
   "outputs": [
    {
     "data": {
      "text/plain": [
       "array(['etd', 'precip', 'wind_direction', 'temperature'], dtype=object)"
      ]
     },
     "execution_count": 21,
     "metadata": {},
     "output_type": "execute_result"
    }
   ],
   "source": [
    "# return selected features\n",
    "sfs.get_feature_names_out()"
   ]
  },
  {
   "cell_type": "code",
   "execution_count": 22,
   "id": "61d368ab-9b4f-4ef5-a148-133ba5fafb3e",
   "metadata": {},
   "outputs": [
    {
     "data": {
      "text/html": [
       "<table class=\"simpletable\">\n",
       "<caption>OLS Regression Results</caption>\n",
       "<tr>\n",
       "  <th>Dep. Variable:</th>    <td>minutes_until_pushback</td> <th>  R-squared:         </th> <td>   0.112</td> \n",
       "</tr>\n",
       "<tr>\n",
       "  <th>Model:</th>                      <td>OLS</td>          <th>  Adj. R-squared:    </th> <td>   0.111</td> \n",
       "</tr>\n",
       "<tr>\n",
       "  <th>Method:</th>                <td>Least Squares</td>     <th>  F-statistic:       </th> <td>   85.77</td> \n",
       "</tr>\n",
       "<tr>\n",
       "  <th>Date:</th>                <td>Sat, 01 Apr 2023</td>    <th>  Prob (F-statistic):</th> <td>2.86e-52</td> \n",
       "</tr>\n",
       "<tr>\n",
       "  <th>Time:</th>                    <td>16:31:32</td>        <th>  Log-Likelihood:    </th> <td> -9681.6</td> \n",
       "</tr>\n",
       "<tr>\n",
       "  <th>No. Observations:</th>         <td>  2046</td>         <th>  AIC:               </th> <td>1.937e+04</td>\n",
       "</tr>\n",
       "<tr>\n",
       "  <th>Df Residuals:</th>             <td>  2042</td>         <th>  BIC:               </th> <td>1.939e+04</td>\n",
       "</tr>\n",
       "<tr>\n",
       "  <th>Df Model:</th>                 <td>     3</td>         <th>                     </th>     <td> </td>    \n",
       "</tr>\n",
       "<tr>\n",
       "  <th>Covariance Type:</th>         <td>nonrobust</td>       <th>                     </th>     <td> </td>    \n",
       "</tr>\n",
       "</table>\n",
       "<table class=\"simpletable\">\n",
       "<tr>\n",
       "         <td></td>           <th>coef</th>     <th>std err</th>      <th>t</th>      <th>P>|t|</th>  <th>[0.025</th>    <th>0.975]</th>  \n",
       "</tr>\n",
       "<tr>\n",
       "  <th>const</th>          <td>   55.0558</td> <td>   32.720</td> <td>    1.683</td> <td> 0.093</td> <td>   -9.112</td> <td>  119.224</td>\n",
       "</tr>\n",
       "<tr>\n",
       "  <th>etd</th>            <td>    0.0158</td> <td>    0.001</td> <td>   13.465</td> <td> 0.000</td> <td>    0.013</td> <td>    0.018</td>\n",
       "</tr>\n",
       "<tr>\n",
       "  <th>precip</th>         <td> 4.798e-16</td> <td> 1.18e-16</td> <td>    4.059</td> <td> 0.000</td> <td> 2.48e-16</td> <td> 7.12e-16</td>\n",
       "</tr>\n",
       "<tr>\n",
       "  <th>wind_direction</th> <td>    3.4876</td> <td>    0.539</td> <td>    6.474</td> <td> 0.000</td> <td>    2.431</td> <td>    4.544</td>\n",
       "</tr>\n",
       "<tr>\n",
       "  <th>temperature</th>    <td>   -2.5479</td> <td>    0.865</td> <td>   -2.947</td> <td> 0.003</td> <td>   -4.244</td> <td>   -0.852</td>\n",
       "</tr>\n",
       "</table>\n",
       "<table class=\"simpletable\">\n",
       "<tr>\n",
       "  <th>Omnibus:</th>       <td>639.581</td> <th>  Durbin-Watson:     </th> <td>   2.189</td>\n",
       "</tr>\n",
       "<tr>\n",
       "  <th>Prob(Omnibus):</th> <td> 0.000</td>  <th>  Jarque-Bera (JB):  </th> <td>3952.307</td>\n",
       "</tr>\n",
       "<tr>\n",
       "  <th>Skew:</th>          <td> 1.325</td>  <th>  Prob(JB):          </th> <td>    0.00</td>\n",
       "</tr>\n",
       "<tr>\n",
       "  <th>Kurtosis:</th>      <td> 9.272</td>  <th>  Cond. No.          </th> <td>9.03e+19</td>\n",
       "</tr>\n",
       "</table><br/><br/>Notes:<br/>[1] Standard Errors assume that the covariance matrix of the errors is correctly specified.<br/>[2] The smallest eigenvalue is 3.26e-30. This might indicate that there are<br/>strong multicollinearity problems or that the design matrix is singular."
      ],
      "text/plain": [
       "<class 'statsmodels.iolib.summary.Summary'>\n",
       "\"\"\"\n",
       "                              OLS Regression Results                              \n",
       "==================================================================================\n",
       "Dep. Variable:     minutes_until_pushback   R-squared:                       0.112\n",
       "Model:                                OLS   Adj. R-squared:                  0.111\n",
       "Method:                     Least Squares   F-statistic:                     85.77\n",
       "Date:                    Sat, 01 Apr 2023   Prob (F-statistic):           2.86e-52\n",
       "Time:                            16:31:32   Log-Likelihood:                -9681.6\n",
       "No. Observations:                    2046   AIC:                         1.937e+04\n",
       "Df Residuals:                        2042   BIC:                         1.939e+04\n",
       "Df Model:                               3                                         \n",
       "Covariance Type:                nonrobust                                         \n",
       "==================================================================================\n",
       "                     coef    std err          t      P>|t|      [0.025      0.975]\n",
       "----------------------------------------------------------------------------------\n",
       "const             55.0558     32.720      1.683      0.093      -9.112     119.224\n",
       "etd                0.0158      0.001     13.465      0.000       0.013       0.018\n",
       "precip          4.798e-16   1.18e-16      4.059      0.000    2.48e-16    7.12e-16\n",
       "wind_direction     3.4876      0.539      6.474      0.000       2.431       4.544\n",
       "temperature       -2.5479      0.865     -2.947      0.003      -4.244      -0.852\n",
       "==============================================================================\n",
       "Omnibus:                      639.581   Durbin-Watson:                   2.189\n",
       "Prob(Omnibus):                  0.000   Jarque-Bera (JB):             3952.307\n",
       "Skew:                           1.325   Prob(JB):                         0.00\n",
       "Kurtosis:                       9.272   Cond. No.                     9.03e+19\n",
       "==============================================================================\n",
       "\n",
       "Notes:\n",
       "[1] Standard Errors assume that the covariance matrix of the errors is correctly specified.\n",
       "[2] The smallest eigenvalue is 3.26e-30. This might indicate that there are\n",
       "strong multicollinearity problems or that the design matrix is singular.\n",
       "\"\"\""
      ]
     },
     "execution_count": 22,
     "metadata": {},
     "output_type": "execute_result"
    }
   ],
   "source": [
    "# re-fit model\n",
    "X = df[['etd', 'precip', 'wind_direction', 'temperature']]\n",
    "X = sm.add_constant(X)\n",
    "\n",
    "model2 = sm.OLS(Y,X).fit()\n",
    "model2.summary()"
   ]
  },
  {
   "cell_type": "code",
   "execution_count": 23,
   "id": "8bef5e66-b67c-48ad-a685-1eea46996320",
   "metadata": {},
   "outputs": [
    {
     "data": {
      "text/plain": [
       "20.472663123664596"
      ]
     },
     "execution_count": 23,
     "metadata": {},
     "output_type": "execute_result"
    }
   ],
   "source": [
    "# re-calculate MAE\n",
    "from sklearn.metrics import mean_absolute_error as mae\n",
    "ypred = model.predict()\n",
    "MAE = mae(Y, ypred)\n",
    "MAE"
   ]
  },
  {
   "cell_type": "code",
   "execution_count": 24,
   "id": "a25a2de3-d59a-4080-9248-f283ee67691a",
   "metadata": {},
   "outputs": [
    {
     "name": "stderr",
     "output_type": "stream",
     "text": [
      "C:\\Users\\Shantel\\.conda\\envs\\myenv\\lib\\site-packages\\statsmodels\\regression\\linear_model.py:1752: RuntimeWarning: invalid value encountered in double_scalars\n",
      "  return 1 - self.ssr/self.centered_tss\n"
     ]
    },
    {
     "data": {
      "text/html": [
       "<div>\n",
       "<style scoped>\n",
       "    .dataframe tbody tr th:only-of-type {\n",
       "        vertical-align: middle;\n",
       "    }\n",
       "\n",
       "    .dataframe tbody tr th {\n",
       "        vertical-align: top;\n",
       "    }\n",
       "\n",
       "    .dataframe thead th {\n",
       "        text-align: right;\n",
       "    }\n",
       "</style>\n",
       "<table border=\"1\" class=\"dataframe\">\n",
       "  <thead>\n",
       "    <tr style=\"text-align: right;\">\n",
       "      <th></th>\n",
       "      <th>feature</th>\n",
       "      <th>VIF</th>\n",
       "    </tr>\n",
       "  </thead>\n",
       "  <tbody>\n",
       "    <tr>\n",
       "      <th>0</th>\n",
       "      <td>const</td>\n",
       "      <td>2897.566636</td>\n",
       "    </tr>\n",
       "    <tr>\n",
       "      <th>1</th>\n",
       "      <td>etd</td>\n",
       "      <td>1.011563</td>\n",
       "    </tr>\n",
       "    <tr>\n",
       "      <th>2</th>\n",
       "      <td>precip</td>\n",
       "      <td>NaN</td>\n",
       "    </tr>\n",
       "    <tr>\n",
       "      <th>3</th>\n",
       "      <td>wind_direction</td>\n",
       "      <td>4.218056</td>\n",
       "    </tr>\n",
       "    <tr>\n",
       "      <th>4</th>\n",
       "      <td>temperature</td>\n",
       "      <td>4.240964</td>\n",
       "    </tr>\n",
       "  </tbody>\n",
       "</table>\n",
       "</div>"
      ],
      "text/plain": [
       "          feature          VIF\n",
       "0           const  2897.566636\n",
       "1             etd     1.011563\n",
       "2          precip          NaN\n",
       "3  wind_direction     4.218056\n",
       "4     temperature     4.240964"
      ]
     },
     "execution_count": 24,
     "metadata": {},
     "output_type": "execute_result"
    }
   ],
   "source": [
    "# re-check for multicollinearity\n",
    "from statsmodels.stats.outliers_influence import variance_inflation_factor\n",
    "\n",
    "# create VIF dataframe\n",
    "vif_data = pd.DataFrame()\n",
    "vif_data[\"feature\"] = X.columns\n",
    "  \n",
    "# calculate VIF for each feature\n",
    "vif_data[\"VIF\"] = [variance_inflation_factor(X.values, i)\n",
    "                          for i in range(len(X.columns))]\n",
    "  \n",
    "vif_data"
   ]
  },
  {
   "cell_type": "code",
   "execution_count": null,
   "id": "c6b24d29-a23d-49b6-b60d-74463295ad99",
   "metadata": {},
   "outputs": [],
   "source": []
  }
 ],
 "metadata": {
  "kernelspec": {
   "display_name": "myenv",
   "language": "python",
   "name": "myenv"
  },
  "language_info": {
   "codemirror_mode": {
    "name": "ipython",
    "version": 3
   },
   "file_extension": ".py",
   "mimetype": "text/x-python",
   "name": "python",
   "nbconvert_exporter": "python",
   "pygments_lexer": "ipython3",
   "version": "3.9.15"
  }
 },
 "nbformat": 4,
 "nbformat_minor": 5
}
